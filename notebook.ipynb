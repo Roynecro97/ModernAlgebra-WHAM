{
 "cells": [
  {
   "cell_type": "markdown",
   "metadata": {},
   "source": [
    "# Modern Algebra RSA Project - Riddles & Solutions\n",
    "\n",
    "Answers with explanations to the project's riddles."
   ]
  },
  {
   "cell_type": "code",
   "execution_count": 44,
   "metadata": {},
   "outputs": [],
   "source": [
    "def immediately_invoke(func):\n",
    "    \"\"\"\n",
    "    Immediately invoke the provided function to prevent a cell's local variables from polluting \n",
    "    \"\"\"\n",
    "    import sys\n",
    "    from importlib import reload\n",
    "    if 'number_theory_functions' in sys.modules:\n",
    "        reload(sys.modules['number_theory_functions'])\n",
    "    if 'rsa_functions' in sys.modules:\n",
    "        reload(sys.modules['rsa_functions'])\n",
    "    return func()"
   ]
  },
  {
   "cell_type": "markdown",
   "metadata": {},
   "source": [
    "## 1. Loki & Spiderman\n",
    "\n",
    "### Riddle\n",
    "\n",
    "Loki wants to be paid 1,000,000\\$ exactly. Spiderman only has coins that are worth 797\\$ each. Loki suggests providing change but only with 5279\\$ bills.\n",
    "\n",
    "Is there a chance for such a transaction? How?\n",
    "\n",
    "### Answer\n",
    "\n",
    "The question is if there is a solution to $797 * x = 1000000 (mod 5279)$. We need to find the modular inverse."
   ]
  },
  {
   "cell_type": "code",
   "execution_count": 38,
   "metadata": {},
   "outputs": [
    {
     "name": "stdout",
     "output_type": "stream",
     "text": [
      "Spiderman can pay with 3977 coins and get 411 bills (2169669$) as change\n"
     ]
    }
   ],
   "source": [
    "from number_theory_functions import modular_inverse\n",
    "\n",
    "@immediately_invoke\n",
    "def loki_and_spiderman():\n",
    "    loki_bill = 5279\n",
    "    goal = 1_000_000\n",
    "    spiderman_coin = 797\n",
    "\n",
    "    goal_inverse = modular_inverse(goal, loki_bill)\n",
    "    x = goal_inverse and modular_inverse((goal_inverse * spiderman_coin) % loki_bill, loki_bill)\n",
    "    if x is None:\n",
    "        print(\"Not Possible\")\n",
    "    else:\n",
    "        change = x * spiderman_coin - goal\n",
    "        assert change >= 0\n",
    "        assert change % loki_bill == 0\n",
    "        change_bills = change // loki_bill\n",
    "        print(f\"Spiderman can pay with {x} coins and get {change_bills} bills ({change}$) as change\")\n",
    "    return x"
   ]
  },
  {
   "cell_type": "markdown",
   "metadata": {},
   "source": [
    "## 2. Hundreds Digit\n",
    "\n",
    "### Riddle\n",
    "\n",
    "What is the hundredth digit of the number $(123456)^{(7896543^{(74365753)})}$\n",
    "\n",
    "### Answer\n",
    "\n",
    "We want to find the result of integer division of $123456^{(7896543^{74365753})} (mod 1000)$ by $100$.\n",
    "\n",
    "According to the conclusions from Lagrange's theorem, if $G$ is a finite group and $a \\in G$, then $o(a) | |G|$.\n",
    "\n",
    "$G = Z_{1000}$ so,\n",
    "\n",
    "$$(123456 (mod 1000))^{(7896543^{74365753} (mod 1000))} (mod 1000)$$"
   ]
  },
  {
   "cell_type": "code",
   "execution_count": 39,
   "metadata": {},
   "outputs": [
    {
     "name": "stdout",
     "output_type": "stream",
     "text": [
      "The hundreds digit of 123456**(7896543**74365753) is 0\n"
     ]
    }
   ],
   "source": [
    "from number_theory_functions import modular_exponent\n",
    "\n",
    "@immediately_invoke\n",
    "def hundreds_digit():\n",
    "    exp = modular_exponent(7896543, 74365753, 1000)\n",
    "    hundreds_digit = modular_exponent(123456, exp, 1000) // 100\n",
    "    print(f\"The hundreds digit of 123456**(7896543**74365753) is {hundreds_digit}\")\n",
    "    return hundreds_digit"
   ]
  },
  {
   "cell_type": "markdown",
   "metadata": {},
   "source": [
    "## 3. cipher 42\n",
    "\n",
    "### Riddle\n",
    "\n",
    "Given a public key $e = 3499$, $N = 12215009$, and an encrypted message $42$. Crack the code.\n",
    "(Hint: You should first guess the private key, given a magic Crystal ball or wolfram alpha)\n",
    "\n",
    "### Answer\n",
    "\n",
    "We know those params:\n",
    "\n",
    "$$e = 3499$$\n",
    "\n",
    "$$N = 12215009$$\n",
    "\n",
    "$$Me = M^e(mod(\\varphi(N))) = 42$$\n",
    "\n",
    "First, we calculate $\\varphi(N)$ with an online Euler's Function calculator:\n",
    "$\\varphi(N) = 12208020$\n",
    "\n",
    "Now, we use wolfram alpha to calculate d:\n",
    "$d = 5425399$\n",
    "\n",
    "Now, we calculate the cipher by raising $42$ to the power of $d$, mod $\\varphi(N)$:\n",
    "`M = modular_exponent(42, 5425399, 12208020)`"
   ]
  },
  {
   "cell_type": "code",
   "execution_count": 40,
   "metadata": {},
   "outputs": [
    {
     "name": "stdout",
     "output_type": "stream",
     "text": [
      "Cracked the code! The ciphered code is 6014508\n"
     ]
    }
   ],
   "source": [
    "from number_theory_functions import modular_exponent\n",
    "\n",
    "@immediately_invoke\n",
    "def cipher_42():\n",
    "    e = 3499\n",
    "    phi_N = 12208020\n",
    "    Me = 42\n",
    "\n",
    "    M = modular_exponent(Me, e, phi_N)\n",
    "    print(f\"Cracked the code! The ciphered code is {M}\")\n",
    "\n",
    "    return M"
   ]
  },
  {
   "cell_type": "markdown",
   "metadata": {},
   "source": [
    "## 4. Finding the Inverse Function\n",
    "\n",
    "### Riddle\n",
    "\n",
    "Look at the function $E(x) = x^e (mod N)$ where $e = 11$ and $N = 991$.\n",
    "Is $E$ inversible? If so, calculate $D(y) = E^{-1}(x)$.\n",
    "\n",
    "### Answer\n",
    "\n",
    "Based on _RSA_'s algorithm, we're looking for $D(y) = y^d (mod\\space N)$ such that $ed \\equiv 1 (mod\\space \\varphi(N))$.\n",
    "\n",
    "$N = 991$ is a prime number $\\Rightarrow \\varphi(N) = N - 1$.\n",
    "\n",
    "We'll try to find such $d$:"
   ]
  },
  {
   "cell_type": "code",
   "execution_count": 43,
   "metadata": {},
   "outputs": [
    {
     "name": "stdout",
     "output_type": "stream",
     "text": [
      "D(y) does not exist\n"
     ]
    }
   ],
   "source": [
    "from number_theory_functions import modular_inverse\n",
    "\n",
    "@immediately_invoke\n",
    "def inverse_exponent():\n",
    "    e = 11\n",
    "    N = 991\n",
    "\n",
    "    d = modular_inverse(e, N - 1)\n",
    "\n",
    "    if d is None:\n",
    "        print(\"D(y) does not exist\")\n",
    "    else:\n",
    "        print(\"D(y) := (y ** {d}) % {N}\")\n",
    "\n",
    "    return d"
   ]
  },
  {
   "cell_type": "markdown",
   "metadata": {},
   "source": [
    "## 5. Encrypt\n",
    "\n",
    "### Riddle\n",
    "\n",
    "Given $q = 6841$ and $p = 7919$, choose a message and a public key $e$ and encrypt the message.\n",
    "(Show your original message, the public key and the encrypted message)\n",
    "\n",
    "### Answer\n",
    "\n",
    "We can use our RSA implementation to find a valid public key $e$ and encrypt the message."
   ]
  },
  {
   "cell_type": "code",
   "execution_count": 59,
   "metadata": {},
   "outputs": [
    {
     "name": "stdout",
     "output_type": "stream",
     "text": [
      "e = 33551899\n",
      "the plain message: 42\n",
      "the encrypted message: 6083595\n"
     ]
    }
   ],
   "source": [
    "@immediately_invoke\n",
    "def encrypt():\n",
    "    from rsa_functions import RSA\n",
    "\n",
    "    p = 7919\n",
    "    q = 6841\n",
    "\n",
    "    rsa = RSA.from_primes(p, q)\n",
    "\n",
    "    plain = 42\n",
    "    encrypted = rsa.encrypt(plain)\n",
    "    assert encrypted is not None\n",
    "    assert plain == rsa.decrypt(encrypted)\n",
    "\n",
    "    print(f\"e = {rsa.public_key[1]}\")\n",
    "    print(f\"the plain message: {plain}\")\n",
    "    print(f\"the encrypted message: {rsa.encrypt(plain)}\")\n",
    "\n",
    "    return encrypted"
   ]
  }
 ],
 "metadata": {
  "interpreter": {
   "hash": "8b69e4dfd00385eb144cb3f961fd8e0f6067a87cc58a6e589dc219ec78c0a242"
  },
  "kernelspec": {
   "display_name": "Python 3.9.7 64-bit ('venv': venv)",
   "language": "python",
   "name": "python3"
  },
  "language_info": {
   "codemirror_mode": {
    "name": "ipython",
    "version": 3
   },
   "file_extension": ".py",
   "mimetype": "text/x-python",
   "name": "python",
   "nbconvert_exporter": "python",
   "pygments_lexer": "ipython3",
   "version": "3.9.7"
  },
  "orig_nbformat": 4
 },
 "nbformat": 4,
 "nbformat_minor": 2
}
